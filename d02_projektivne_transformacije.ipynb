{
 "cells": [
  {
   "cell_type": "markdown",
   "metadata": {},
   "source": [
    "# Domaći 2 - Uklanjanje distorzije"
   ]
  },
  {
   "cell_type": "markdown",
   "metadata": {},
   "source": [
    "## Biblioteke"
   ]
  },
  {
   "cell_type": "code",
   "execution_count": 2,
   "metadata": {},
   "outputs": [],
   "source": [
    "import numpy as np\n",
    "import lib.pg_transform as pgt"
   ]
  },
  {
   "cell_type": "markdown",
   "metadata": {},
   "source": [
    "## Testiranje funkcija"
   ]
  },
  {
   "cell_type": "markdown",
   "metadata": {},
   "source": [
    "Ulazni podaci:"
   ]
  },
  {
   "cell_type": "code",
   "execution_count": 3,
   "metadata": {},
   "outputs": [],
   "source": [
    "a = np.array([-3, -1, 1])\n",
    "b = np.array([3, -1, 1])\n",
    "c = np.array([1, 1, 1])\n",
    "d = np.array([-1, 1, 1])\n",
    "\n",
    "ap = np.array([-2, -1, 1])\n",
    "bp = np.array([2, -1, 1])\n",
    "cp = np.array([2, 1, 1])\n",
    "dp = np.array([-2, 1, 1])"
   ]
  },
  {
   "cell_type": "markdown",
   "metadata": {},
   "source": [
    "Testiranje naivnog algoritma:"
   ]
  },
  {
   "cell_type": "code",
   "execution_count": 4,
   "metadata": {},
   "outputs": [
    {
     "name": "stdout",
     "output_type": "stream",
     "text": [
      "[[ 2.00000000e+00 -6.66133815e-16  6.66133815e-16]\n",
      " [-4.44089210e-16  2.00000000e+00 -1.00000000e+00]\n",
      " [ 4.44089210e-16 -1.00000000e+00  2.00000000e+00]]\n"
     ]
    }
   ],
   "source": [
    "P1 = pgt.naive(a, b, c, d, ap, bp, cp, dp)\n",
    "print(P1)"
   ]
  },
  {
   "cell_type": "markdown",
   "metadata": {},
   "source": [
    "Testiranje DLT algoritma:"
   ]
  },
  {
   "cell_type": "code",
   "execution_count": 5,
   "metadata": {},
   "outputs": [
    {
     "name": "stdout",
     "output_type": "stream",
     "text": [
      "[[-5.34522484e-01 -3.33066907e-16  1.56992475e-16]\n",
      " [-1.11022302e-16 -5.34522484e-01  2.67261242e-01]\n",
      " [ 1.38777878e-17  2.67261242e-01 -5.34522484e-01]]\n"
     ]
    }
   ],
   "source": [
    "e = np.array([1, 2, 3])\n",
    "f = np.array([-8, -2, 1])\n",
    "\n",
    "ep = P1 @ e\n",
    "fp = P1 @ f\n",
    "\n",
    "P2 = pgt.dlt([a, b, c, d, e, f],\n",
    "             [ap, bp, cp, dp, ep, fp])\n",
    "\n",
    "print(P2)"
   ]
  },
  {
   "cell_type": "markdown",
   "metadata": {},
   "source": [
    "Upoređivanje rezultata naivnog algoritma i DLT algoritma:"
   ]
  },
  {
   "cell_type": "code",
   "execution_count": 6,
   "metadata": {},
   "outputs": [
    {
     "name": "stdout",
     "output_type": "stream",
     "text": [
      "[[ 2.00000000e+00  1.24622225e-15 -5.87412052e-16]\n",
      " [ 4.15407418e-16  2.00000000e+00 -1.00000000e+00]\n",
      " [-5.19259273e-17 -1.00000000e+00  2.00000000e+00]]\n"
     ]
    }
   ],
   "source": [
    "print(P2 / P2[0,0] * P1[0,0])"
   ]
  },
  {
   "cell_type": "markdown",
   "metadata": {},
   "source": [
    "Testiranje unapređenog DLT algoritma:"
   ]
  },
  {
   "cell_type": "code",
   "execution_count": 7,
   "metadata": {},
   "outputs": [
    {
     "name": "stdout",
     "output_type": "stream",
     "text": [
      "[[-4.00617380e-01 -2.49941696e-16  3.33066907e-16]\n",
      " [ 1.24655527e-18 -4.00617380e-01  2.00308690e-01]\n",
      " [-7.03250359e-17  2.00308690e-01 -4.00617380e-01]]\n"
     ]
    }
   ],
   "source": [
    "e = np.array([1, 2, 3])\n",
    "f = np.array([-8, -2, 1])\n",
    "\n",
    "ep = P1 @ e\n",
    "fp = P1 @ f\n",
    "\n",
    "P3 = pgt.dlt2([a, b, c, d, e, f], [ap, bp, cp, dp, ep, fp])\n",
    "\n",
    "print(P3)"
   ]
  },
  {
   "cell_type": "markdown",
   "metadata": {},
   "source": [
    "Upoređivanje rezultata naivnog algoritma i unapređenog DLT algorima:"
   ]
  },
  {
   "cell_type": "code",
   "execution_count": 8,
   "metadata": {},
   "outputs": [
    {
     "name": "stdout",
     "output_type": "stream",
     "text": [
      "[[ 2.00000000e+00  1.24778259e-15 -1.66276814e-15]\n",
      " [-6.22317121e-18  2.00000000e+00 -1.00000000e+00]\n",
      " [ 3.51083300e-16 -1.00000000e+00  2.00000000e+00]]\n"
     ]
    }
   ],
   "source": [
    "print(P3 / P3[0][0] * P1[0][0])"
   ]
  },
  {
   "cell_type": "markdown",
   "metadata": {},
   "source": [
    "## Dodatni test primeri"
   ]
  },
  {
   "cell_type": "code",
   "execution_count": 25,
   "metadata": {},
   "outputs": [],
   "source": [
    "y1 = np.array([2, 1, 1])\n",
    "y2 = np.array([1, 2, 1])\n",
    "y3 = np.array([3, 4, 1])\n",
    "y4 = np.array([-1, -3, 1])\n",
    "y5 = np.array([-2, 5, 1])\n",
    "\n",
    "y1p = np.array([0, 1, 1])\n",
    "y2p = np.array([5, 0, 1])\n",
    "y3p = np.array([2, -5, 1])\n",
    "y4p = np.array([-1, -1, 1])\n",
    "y5p = np.array([4, 1, 2])\n",
    "\n",
    "yn1 = np.array([0, -3, 1])\n",
    "yn2 = np.array([0, -1, 1])\n",
    "yn3 = np.array([4, -1, 1])\n",
    "yn4 = np.array([-7, -4, 1])\n",
    "yn5 = np.array([0, 5, 1])\n",
    "\n",
    "yn1p = np.array([3, -1, 1])\n",
    "yn2p = np.array([4, 4, 1])\n",
    "yn3p = np.array([9, 1, 1])\n",
    "yn4p = np.array([5, -2, 1])\n",
    "yn5p = np.array([7, 2, 2])\n"
   ]
  },
  {
   "cell_type": "markdown",
   "metadata": {},
   "source": [
    "### 1."
   ]
  },
  {
   "cell_type": "code",
   "execution_count": 11,
   "metadata": {},
   "outputs": [
    {
     "name": "stdout",
     "output_type": "stream",
     "text": [
      "[[ 1.         -0.4893617  -1.5106383 ]\n",
      " [ 0.62765957 -0.04255319 -0.54255319]\n",
      " [ 0.5        -0.46808511  0.13829787]]\n"
     ]
    }
   ],
   "source": [
    "P4 = pgt.naive(y1, y2, y3, y4, y1p, y2p, y3p, y4p)\n",
    "print(P4 / P4[0][0])"
   ]
  },
  {
   "cell_type": "code",
   "execution_count": 13,
   "metadata": {},
   "outputs": [
    {
     "name": "stdout",
     "output_type": "stream",
     "text": [
      "[[ 1.         -0.4893617  -1.5106383 ]\n",
      " [ 0.62765957 -0.04255319 -0.54255319]\n",
      " [ 0.5        -0.46808511  0.13829787]]\n"
     ]
    }
   ],
   "source": [
    "P5 = pgt.dlt([y1, y2, y3, y4], [y1p, y2p, y3p, y4p])\n",
    "print(P5 / P5[0][0])"
   ]
  },
  {
   "cell_type": "code",
   "execution_count": 15,
   "metadata": {},
   "outputs": [
    {
     "name": "stdout",
     "output_type": "stream",
     "text": [
      "[[ 1.         -0.4893617  -1.5106383 ]\n",
      " [ 0.62765957 -0.04255319 -0.54255319]\n",
      " [ 0.5        -0.46808511  0.13829787]]\n"
     ]
    }
   ],
   "source": [
    "P6 = pgt.dlt([y1, y2, y3, y4], [y1p, y2p, y3p, y4p])\n",
    "print(P6 / P6[0][0])"
   ]
  },
  {
   "cell_type": "markdown",
   "metadata": {},
   "source": [
    "### 2."
   ]
  },
  {
   "cell_type": "code",
   "execution_count": 26,
   "metadata": {},
   "outputs": [
    {
     "name": "stdout",
     "output_type": "stream",
     "text": [
      "[[ 1.         -0.50215564 -1.45779447]\n",
      " [ 0.51618777 -0.00399712 -0.44345389]\n",
      " [ 0.46632343 -0.43192449  0.10723129]]\n"
     ]
    }
   ],
   "source": [
    "P7 = pgt.dlt([y1, y2, y3, y4, y5], [y1p, y2p, y3p, y4p, y5p])\n",
    "print(P7 / P7[0][0])"
   ]
  },
  {
   "cell_type": "code",
   "execution_count": 27,
   "metadata": {},
   "outputs": [
    {
     "name": "stdout",
     "output_type": "stream",
     "text": [
      "[[ 1.         -0.50218442 -1.45768306]\n",
      " [ 0.51824383 -0.00509115 -0.44490175]\n",
      " [ 0.46676488 -0.43228903  0.10740842]]\n"
     ]
    }
   ],
   "source": [
    "P8 = pgt.dlt2([y1, y2, y3, y4, y5], [y1p, y2p, y3p, y4p, y5p])\n",
    "print(P8 / P8[0][0])"
   ]
  },
  {
   "cell_type": "markdown",
   "metadata": {},
   "source": [
    "### 3."
   ]
  },
  {
   "cell_type": "code",
   "execution_count": 28,
   "metadata": {},
   "outputs": [
    {
     "name": "stdout",
     "output_type": "stream",
     "text": [
      "[[ 1.          8.18898844 14.71689008]\n",
      " [-1.23475898  1.6072971   7.85202992]\n",
      " [-0.09187705  2.39590797  3.94372897]]\n"
     ]
    }
   ],
   "source": [
    "P10 = pgt.dlt2([yn1, yn2, yn3, yn4, yn5], [yn1p, yn2p, yn3p, yn4p, yn5p])\n",
    "print(P10 / P10[0][0])"
   ]
  }
 ],
 "metadata": {
  "kernelspec": {
   "display_name": "Python 3.10.6 ('.venv': venv)",
   "language": "python",
   "name": "python3"
  },
  "language_info": {
   "codemirror_mode": {
    "name": "ipython",
    "version": 3
   },
   "file_extension": ".py",
   "mimetype": "text/x-python",
   "name": "python",
   "nbconvert_exporter": "python",
   "pygments_lexer": "ipython3",
   "version": "3.10.6 (main, Nov 10 2011, 15:00:00) [GCC 12.1.0]"
  },
  "orig_nbformat": 4,
  "vscode": {
   "interpreter": {
    "hash": "926b5b7ed9e1b74ad0d086f0ad9d17e092f8c81f38b503c8a03f44717b95f56a"
   }
  }
 },
 "nbformat": 4,
 "nbformat_minor": 2
}
