{
 "cells": [
  {
   "attachments": {},
   "cell_type": "markdown",
   "metadata": {},
   "source": [
    "# Domaći 04 - Parametri kamere"
   ]
  },
  {
   "cell_type": "code",
   "execution_count": 1,
   "metadata": {},
   "outputs": [],
   "source": [
    "from d04_kamera import *\n",
    "import numpy as np\n",
    "import numpy.linalg as LA"
   ]
  },
  {
   "attachments": {},
   "cell_type": "markdown",
   "metadata": {},
   "source": [
    "## 01"
   ]
  },
  {
   "attachments": {},
   "cell_type": "markdown",
   "metadata": {},
   "source": [
    "### Kod"
   ]
  },
  {
   "cell_type": "code",
   "execution_count": 2,
   "metadata": {},
   "outputs": [],
   "source": [
    "def ParametriKamere(T):\n",
    "\n",
    "    T0 = T[:,0:3]\n",
    "\n",
    "    if LA.det(T0) < 0:\n",
    "        T = -T\n",
    "\n",
    "    Q , R = LA.qr(LA.inv(T0))\n",
    "\n",
    "    if R[0][0] < 0:\n",
    "        R[0] = -R[0]\n",
    "        Q[:,0] = -Q[:,0]\n",
    "    if R[1][1] < 0:\n",
    "        R[1] = -R[1]\n",
    "        Q[:,1] = -Q[:,1]\n",
    "    if R[2][2] < 0:\n",
    "        R[2] = -R[2]\n",
    "        Q[:,2] = -Q[:,2]\n",
    "\n",
    "    K = LA.inv(R)\n",
    "    K = K / K[2,2]\n",
    "    A = np.transpose(Q)\n",
    "\n",
    "    c1 = LA.det(T[:, 1:])\n",
    "    c2 = -LA.det(np.array([T[:,0], T[:,2], T[:,3]]).T)\n",
    "    c3 = LA.det(np.array([T[:,0], T[:,1], T[:,3]]).T)\n",
    "    c4 = -LA.det(T[:, :-1])\n",
    "\n",
    "    c1 = c1/c4\n",
    "    c2 = c2/c4\n",
    "    c3 = c3/c4\n",
    "\n",
    "    C = np.array([c1, c2, c3])\n",
    "\n",
    "    return K , A , C"
   ]
  },
  {
   "cell_type": "code",
   "execution_count": 3,
   "metadata": {},
   "outputs": [],
   "source": [
    "def Kamera3x4(K, A, C):\n",
    "    T0 = K @ A\n",
    "    P = -T0 @ C\n",
    "    return np.hstack((T0,P.reshape((3,1))))"
   ]
  },
  {
   "attachments": {},
   "cell_type": "markdown",
   "metadata": {},
   "source": [
    "### Rešenje"
   ]
  },
  {
   "cell_type": "code",
   "execution_count": 4,
   "metadata": {},
   "outputs": [],
   "source": [
    "n = 208\n",
    "T = np.array([\n",
    "    [5, -1 - 2*n, 3, 18 - 3*n],\n",
    "    [0, -1, 5, 21],\n",
    "    [0, -1, 0, 1]\n",
    "])"
   ]
  },
  {
   "cell_type": "code",
   "execution_count": 5,
   "metadata": {},
   "outputs": [
    {
     "name": "stdout",
     "output_type": "stream",
     "text": [
      "Originalna matrica kamere:\n",
      " [[   5 -417    3 -606]\n",
      " [   0   -1    5   21]\n",
      " [   0   -1    0    1]]\n",
      "Matrica K:\n",
      " [[  5.   3. 417.]\n",
      " [  0.   5.   1.]\n",
      " [  0.   0.   1.]]\n",
      "Matrica A:\n",
      " [[ 1.  0.  0.]\n",
      " [ 0.  0.  1.]\n",
      " [-0. -1. -0.]]\n",
      "Koordinate C:\n",
      " [207.   1.  -4.]\n",
      "Matrica kamere dobijena inverznim postuptkom\n",
      " [[   5. -417.    3. -606.]\n",
      " [   0.   -1.    5.   21.]\n",
      " [   0.   -1.    0.    1.]]\n"
     ]
    }
   ],
   "source": [
    "print(\"Originalna matrica kamere:\\n\", T)\n",
    "\n",
    "K , A , C = ParametriKamere(T)\n",
    "print(\"Matrica K:\\n\", K)\n",
    "print(\"Matrica A:\\n\", A)\n",
    "print(\"Koordinate C:\\n\", C)\n",
    "\n",
    "T1 = Kamera3x4(K, A, C)\n",
    "print(\"Matrica kamere dobijena inverznim postuptkom\\n\", T1)"
   ]
  },
  {
   "attachments": {},
   "cell_type": "markdown",
   "metadata": {},
   "source": [
    "## 02"
   ]
  },
  {
   "attachments": {},
   "cell_type": "markdown",
   "metadata": {},
   "source": [
    "### Kod"
   ]
  },
  {
   "cell_type": "code",
   "execution_count": 22,
   "metadata": {},
   "outputs": [],
   "source": [
    "def CameraDLP(originali, projekcije):\n",
    "    \n",
    "    A = None\n",
    "    for ((x,y,z,t), (u,v,w)) in zip(originali, projekcije):\n",
    "        a = np.array([\n",
    "                [0, 0, 0, 0, -w*x, -w*y, -w*z, -w*t, v*x, v*y, v*z, v*t],\n",
    "                [w*x, w*y, w*z, w*t, 0, 0, 0, 0, -u*x, -u*y, -u*z, -u*t]\n",
    "            ])\n",
    "        \n",
    "        if A is None:\n",
    "            A = a\n",
    "        else:\n",
    "            A = np.vstack((A, a))\n",
    "\n",
    "    \n",
    "    _, _, vt = np.linalg.svd(A)\n",
    "\n",
    "    T = np.reshape(vt[-1], (3, 4))\n",
    "\n",
    "    T = T / T[0,0]\n",
    "\n",
    "    return T"
   ]
  },
  {
   "attachments": {},
   "cell_type": "markdown",
   "metadata": {},
   "source": [
    "### Rešenje"
   ]
  },
  {
   "cell_type": "code",
   "execution_count": 7,
   "metadata": {},
   "outputs": [],
   "source": [
    "n = 208\n",
    "\n",
    "M1 = np.array([460, 280, 250, 1])\n",
    "M2 = np.array([50, 380, 350, 1])\n",
    "M3 = np.array([470, 500, 100, 1])\n",
    "M4 = np.array([380, 630, 50 * n, 1])\n",
    "M5 = np.array([30 * n, 290, 0, 1])\n",
    "M6 = np.array([580, 0, 130, 1])\n",
    "\n",
    "M1p = np.array([288, 251, 1])\n",
    "M2p = np.array([79, 510, 1])\n",
    "M3p = np.array([470, 440, 1])\n",
    "M4p = np.array([520, 590, 1])\n",
    "M5p = np.array([365, 388, 1])\n",
    "M6p = np.array([365, 20, 1])\n",
    "\n",
    "M = [M1, M2, M3, M4, M5, M6]\n",
    "Mp = [M1p, M2p, M3p, M4p, M5p, M6p]"
   ]
  },
  {
   "cell_type": "code",
   "execution_count": 23,
   "metadata": {},
   "outputs": [
    {
     "name": "stdout",
     "output_type": "stream",
     "text": [
      "[[ 1.00000000e+00 -9.49859286e-01  2.10743867e+00 -4.53571847e+02]\n",
      " [ 1.09288787e+00 -8.83585872e-02  2.37283385e+00 -9.31602127e+02]\n",
      " [ 2.67527975e-03 -2.46399679e-03  4.06504686e-03 -8.82836344e-01]]\n"
     ]
    }
   ],
   "source": [
    "T2 = CameraDLP(M, Mp)\n",
    "print(T2)"
   ]
  },
  {
   "attachments": {},
   "cell_type": "markdown",
   "metadata": {},
   "source": [
    "## 03"
   ]
  },
  {
   "cell_type": "code",
   "execution_count": 9,
   "metadata": {},
   "outputs": [],
   "source": [
    "m1 = np.array([167, 52, 235, 1])\n",
    "m2 = np.array([0, 230, 200, 1])\n",
    "m3 = np.array([75, 163, 0, 1])\n",
    "m4 = np.array([273, 112, 80, 1])\n",
    "m5 = np.array([249, 293, 70, 1])\n",
    "m6 = np.array([62, 474, 70, 1])\n",
    "\n",
    "m1p = np.array([922, 535, 1])\n",
    "m2p = np.array([2349, 607, 1])\n",
    "m3p = np.array([1856, 1596, 1])\n",
    "m4p = np.array([952, 1768, 1])\n",
    "m5p = np.array([2082, 2044, 1])\n",
    "m6p = np.array([3577, 1667, 1])\n",
    "\n",
    "m = [m1, m2, m3, m4, m5, m6]\n",
    "mp = [m1p, m2p, m3p, m4p, m5p, m6p]"
   ]
  },
  {
   "cell_type": "code",
   "execution_count": 28,
   "metadata": {},
   "outputs": [
    {
     "name": "stdout",
     "output_type": "stream",
     "text": [
      "T = \n",
      " [[ 1.00000000e+00 -6.88365639e-01  4.39831001e-01 -3.88712065e+02]\n",
      " [-1.14977040e-01 -2.88022565e-02  1.20877983e+00 -3.53431448e+02]\n",
      " [ 2.67854042e-04  1.38986736e-04  2.24812167e-04 -2.72238876e-01]]\n",
      "K = \n",
      " [[ 2.84750481e+03 -4.36543239e+01  1.91421467e+03]\n",
      " [ 0.00000000e+00  2.76003584e+03  1.67332045e+03]\n",
      " [ 0.00000000e+00  0.00000000e+00  1.00000000e+00]]\n",
      "A = \n",
      " [[ 0.44643194 -0.89456764  0.02114848]\n",
      " [-0.54224731 -0.25165555  0.80164664]\n",
      " [ 0.71180501  0.36934837  0.59742398]]\n",
      "C = \n",
      " [512.43207838 403.84243122 350.75117265]\n",
      "\n",
      "Priblizno izmerene koordinate kamere: (565, 450, 380)\n"
     ]
    }
   ],
   "source": [
    "T3 = CameraDLP(m, mp)\n",
    "print(\"T = \\n\", T3)\n",
    "\n",
    "K1 , A1 , C1 = ParametriKamere(T3)\n",
    "print(\"K = \\n\", K1)\n",
    "print(\"A = \\n\", A1)\n",
    "print(\"C = \\n\", C1)\n",
    "\n",
    "print()\n",
    "print(\"Priblizno izmerene koordinate kamere: (565, 450, 380)\")"
   ]
  }
 ],
 "metadata": {
  "kernelspec": {
   "display_name": "Python 3.10.6 ('.venv': venv)",
   "language": "python",
   "name": "python3"
  },
  "language_info": {
   "codemirror_mode": {
    "name": "ipython",
    "version": 3
   },
   "file_extension": ".py",
   "mimetype": "text/x-python",
   "name": "python",
   "nbconvert_exporter": "python",
   "pygments_lexer": "ipython3",
   "version": "3.10.6 (main, Nov 10 2011, 15:00:00) [GCC 12.1.0]"
  },
  "orig_nbformat": 4,
  "vscode": {
   "interpreter": {
    "hash": "926b5b7ed9e1b74ad0d086f0ad9d17e092f8c81f38b503c8a03f44717b95f56a"
   }
  }
 },
 "nbformat": 4,
 "nbformat_minor": 2
}
