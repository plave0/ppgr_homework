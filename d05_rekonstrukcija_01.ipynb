{
 "cells": [
  {
   "attachments": {},
   "cell_type": "markdown",
   "metadata": {},
   "source": [
    "# 3D rekonstrukcija - Primer 1"
   ]
  },
  {
   "cell_type": "code",
   "execution_count": 1,
   "metadata": {},
   "outputs": [],
   "source": [
    "import numpy as np\n",
    "import matplotlib.pyplot as plt\n",
    "import lib.pg2d as pg2"
   ]
  },
  {
   "attachments": {},
   "cell_type": "markdown",
   "metadata": {},
   "source": [
    "## Tačke"
   ]
  },
  {
   "attachments": {},
   "cell_type": "markdown",
   "metadata": {},
   "source": [
    "### Vidljive tačke"
   ]
  },
  {
   "cell_type": "code",
   "execution_count": 2,
   "metadata": {},
   "outputs": [],
   "source": [
    "x1 = np.array([958, 38, 1])\n",
    "y1 = np.array([933, 33, 1])\n",
    "\n",
    "x2 = np.array([1117, 111, 1])\n",
    "y2 = np.array([1027, 132, 1])\n",
    "\n",
    "x3 = np.array([874, 285, 1])\n",
    "y3 = np.array([692, 223, 1])\n",
    "\n",
    "x4 = np.array([707, 218, 1])\n",
    "y4 = np.array([595, 123, 1])\n",
    "\n",
    "x6 = np.array([1094, 536, 1])\n",
    "y6 = np.array([980, 535, 1])\n",
    "\n",
    "x7 = np.array([862, 729, 1])\n",
    "y7 = np.array([652, 638, 1])\n",
    "\n",
    "x8 = np.array([710, 648, 1])\n",
    "y8 = np.array([567, 532, 1])\n",
    "\n",
    "x9 = np.array([292, 569, 1])\n",
    "y9 = np.array([272, 360, 1])\n",
    "\n",
    "x10 = np.array([770, 969, 1])\n",
    "y10 = np.array([432, 814, 1])\n",
    "\n",
    "x11 = np.array([770, 1465, 1])\n",
    "y11 = np.array([414, 1284, 1])\n",
    "\n",
    "x12 = np.array([317, 1057, 1])\n",
    "y12 = np.array([258, 818, 1])\n",
    "\n",
    "y13 = np.array([1077, 269, 1])\n",
    "\n",
    "x14 = np.array([1487, 598, 1])\n",
    "y14 = np.array([1303, 700, 1])\n",
    "\n",
    "x15 = np.array([1462, 1079, 1])\n",
    "y15 = np.array([1257, 1165, 1])\n",
    "\n",
    "Xs = [x1, x2, x3, x4, x9, x10, x11, x12]\n",
    "Ys = [y1, y2, y3, y4, y9, y10, y11, y12]"
   ]
  },
  {
   "attachments": {},
   "cell_type": "markdown",
   "metadata": {},
   "source": [
    "### Nevidljive tačke"
   ]
  },
  {
   "cell_type": "code",
   "execution_count": 3,
   "metadata": {},
   "outputs": [],
   "source": [
    "def cross(a, b):\n",
    "\n",
    "    c1 = int(a[1]) * int(b[2]) - int(a[2]) * int(b[1])\n",
    "    c2 = int(a[2]) * int(b[0]) - int(a[0]) * int(b[2]) \n",
    "    c3 = int(a[0]) * int(b[1]) - int(a[1]) * int(b[0])\n",
    "\n",
    "    return [c1,c2,c3]\n",
    "\n",
    "def invisible_point(L1, L2, L3, L4, X1, X2):\n",
    "\n",
    "    cross_product = np.array(cross(\n",
    "        cross (\n",
    "            cross(cross(L1[0], L1[1]), cross(L2[0], L2[1])), X1\n",
    "        ),\n",
    "        cross (\n",
    "            cross(cross(L3[0], L3[1]), cross(L4[0], L4[1])), X2\n",
    "        )\n",
    "    ))\n",
    "    \n",
    "    cross_product = cross_product / cross_product[-1]\n",
    "\n",
    "    return cross_product\n"
   ]
  },
  {
   "cell_type": "code",
   "execution_count": 4,
   "metadata": {},
   "outputs": [],
   "source": [
    "x5 = invisible_point((x4, x8), (x6, x2), (x1, x4), (x3, x2), x1, x8)\n",
    "y5 = invisible_point((y4, y8), (y6, y2), (y1, y4), (y3, y2), y1, y8)\n",
    "\n",
    "x13 = invisible_point((x9, x10), (x11, x12), (x11, x15), (x10, x14), x14, x9)\n",
    "\n",
    "x16 = invisible_point((x10, x14), (x11, x15), (x9, x10), (x11, x12), x12, x15)\n",
    "y16 = invisible_point((y10, y14), (y11, y15), (y9, y10), (y11, y12), y12, y15)"
   ]
  },
  {
   "attachments": {},
   "cell_type": "markdown",
   "metadata": {},
   "source": [
    "## Formiranje fundamentalne matrice"
   ]
  },
  {
   "cell_type": "code",
   "execution_count": 5,
   "metadata": {},
   "outputs": [
    {
     "name": "stdout",
     "output_type": "stream",
     "text": [
      "[[ 893814   35454     933   31614    1254      33     958      38       1]\n",
      " [1147159  113997    1027  147444   14652     132    1117     111       1]\n",
      " [ 604808  197220     692  194902   63555     223     874     285       1]\n",
      " [ 420665  129710     595   86961   26814     123     707     218       1]\n",
      " [  79424  154768     272  105120  204840     360     292     569       1]\n",
      " [ 332640  418608     432  626780  788766     814     770     969       1]\n",
      " [ 318780  606510     414  988680 1881060    1284     770    1465       1]\n",
      " [  81786  272706     258  259306  864626     818     317    1057       1]]\n"
     ]
    }
   ],
   "source": [
    "A = None\n",
    "for ((a1, a2, a3), (b1, b2, b3)) in zip(Xs, Ys):\n",
    "    a = np.array(\n",
    "            [a1 * b1 , a2 * b1 , a3 * b1, a1 * b2 , a2 * b2 , a3 * b2 , a1 * b3 , a2 * b3 , a3 * b3]\n",
    "        )\n",
    "    \n",
    "    if A is None:\n",
    "        A = a   \n",
    "    else:\n",
    "        A = np.vstack((A, a))\n",
    "\n",
    "print(A)"
   ]
  },
  {
   "cell_type": "code",
   "execution_count": 6,
   "metadata": {},
   "outputs": [
    {
     "name": "stdout",
     "output_type": "stream",
     "text": [
      "Fundamentalna matrice F:\n",
      " [[ 4.54020258e-07 -7.42529108e-07 -1.86611244e-03]\n",
      " [-1.99099442e-07  2.11775653e-07  2.77795603e-03]\n",
      " [ 3.96239362e-04 -2.72717967e-03  9.99990603e-01]]\n"
     ]
    }
   ],
   "source": [
    "F = np.linalg.svd(A)[2][-1].reshape((3,3))\n",
    "print(\"Fundamentalna matrice F:\\n\", F)"
   ]
  },
  {
   "attachments": {},
   "cell_type": "markdown",
   "metadata": {},
   "source": [
    "## Testiranje osobina fundamentalne matrice"
   ]
  },
  {
   "cell_type": "code",
   "execution_count": 7,
   "metadata": {},
   "outputs": [
    {
     "name": "stdout",
     "output_type": "stream",
     "text": [
      "[-1.11022302e-16 -6.68354261e-14 -2.58681965e-14 -4.06896739e-14\n",
      "  2.22044605e-16  8.79296636e-14  1.93178806e-13  5.41788836e-14]\n"
     ]
    }
   ],
   "source": [
    "print(np.array(list(map(\n",
    "    lambda P : P[1] @ F @ P[0],\n",
    "    zip(Xs, Ys)\n",
    "))))"
   ]
  },
  {
   "attachments": {},
   "cell_type": "markdown",
   "metadata": {},
   "source": [
    "***Dobijamo nula vektor (sa numeričkom greškom)***"
   ]
  },
  {
   "cell_type": "code",
   "execution_count": 8,
   "metadata": {},
   "outputs": [
    {
     "data": {
      "text/plain": [
       "1.7139674179615445e-12"
      ]
     },
     "execution_count": 8,
     "metadata": {},
     "output_type": "execute_result"
    }
   ],
   "source": [
    "np.linalg.det(F)"
   ]
  },
  {
   "attachments": {},
   "cell_type": "markdown",
   "metadata": {},
   "source": [
    "***Determinanta je takođe 0 (uz numeričku grešku)***"
   ]
  },
  {
   "attachments": {},
   "cell_type": "markdown",
   "metadata": {},
   "source": [
    "## Nalaženje epipolova"
   ]
  },
  {
   "cell_type": "code",
   "execution_count": 9,
   "metadata": {},
   "outputs": [
    {
     "name": "stdout",
     "output_type": "stream",
     "text": [
      "Epipol e1:\n",
      " [1.04078394e+04 1.87885919e+03 1.00000000e+00]\n"
     ]
    }
   ],
   "source": [
    "e1 = np.linalg.svd(F)[2][-1]\n",
    "e1 = e1/e1[2]\n",
    "print(\"Epipol e1:\\n\", e1)"
   ]
  },
  {
   "cell_type": "code",
   "execution_count": 10,
   "metadata": {},
   "outputs": [
    {
     "name": "stdout",
     "output_type": "stream",
     "text": [
      "Epipol e2:\n",
      " [-4.38831707e+03 -3.30785789e+03  1.00000000e+00]\n"
     ]
    }
   ],
   "source": [
    "e2 = np.transpose(np.linalg.svd(F)[0])[-1]\n",
    "e2 = e2 / e2[2]\n",
    "print(\"Epipol e2:\\n\", e2)"
   ]
  },
  {
   "attachments": {},
   "cell_type": "markdown",
   "metadata": {},
   "source": [
    "## Ispravljanje preciznosti fundamentalne matrice"
   ]
  },
  {
   "cell_type": "code",
   "execution_count": 11,
   "metadata": {},
   "outputs": [
    {
     "name": "stdout",
     "output_type": "stream",
     "text": [
      "Modifikovana fundamentalna matrica F1:\n",
      " [[ 3.17782475e-07 -7.67123224e-07 -1.86611245e-03]\n",
      " [-3.01793759e-07  1.93236919e-07  2.77795602e-03]\n",
      " [ 3.96239393e-04 -2.72717967e-03  9.99990603e-01]]\n"
     ]
    }
   ],
   "source": [
    "U , D, Vt = np.linalg.svd(F)\n",
    "D1 = np.diag([1,1,0]) @ np.diag(D)\n",
    "\n",
    "F1 = U @ D1 @ Vt\n",
    "\n",
    "print(\"Modifikovana fundamentalna matrica F1:\\n\", F1)"
   ]
  },
  {
   "cell_type": "code",
   "execution_count": 12,
   "metadata": {},
   "outputs": [
    {
     "data": {
      "text/plain": [
       "4.855996621219097e-28"
      ]
     },
     "execution_count": 12,
     "metadata": {},
     "output_type": "execute_result"
    }
   ],
   "source": [
    "np.linalg.det(F1)"
   ]
  },
  {
   "attachments": {},
   "cell_type": "markdown",
   "metadata": {},
   "source": [
    "***Za determinantu smo ponovo dobili nulu ali sa manjom numeričkom greškom.***"
   ]
  },
  {
   "attachments": {},
   "cell_type": "markdown",
   "metadata": {},
   "source": [
    "## Rekonstrukcija skrivenih tačaka"
   ]
  },
  {
   "cell_type": "code",
   "execution_count": 13,
   "metadata": {},
   "outputs": [
    {
     "name": "stdout",
     "output_type": "stream",
     "text": [
      "Matrica prve kamere:\n",
      " [[1. 0. 0. 0.]\n",
      " [0. 1. 0. 0.]\n",
      " [0. 0. 1. 0.]]\n"
     ]
    }
   ],
   "source": [
    "T1 = np.transpose(np.vstack((np.eye(3), np.zeros(3))))\n",
    "print(\"Matrica prve kamere:\\n\", T1)"
   ]
  },
  {
   "cell_type": "code",
   "execution_count": 14,
   "metadata": {},
   "outputs": [
    {
     "name": "stdout",
     "output_type": "stream",
     "text": [
      "Matrica druge kamere:\n",
      " [[-1.31070330e+00  9.02112258e+00 -3.30782958e+03 -4.38831707e+03]\n",
      " [ 1.73882441e+00 -1.19677298e+01  4.38827396e+03 -3.30785789e+03]\n",
      " [ 2.37554597e-03 -3.38551948e-03 -1.83633866e+01  1.00000000e+00]]\n"
     ]
    }
   ],
   "source": [
    "E2 = np.array([\n",
    "    [0, -e2[2], e2[1]],\n",
    "    [e2[2], 0, -e2[0]],\n",
    "    [-e2[1], e2[0], 0]\n",
    "])\n",
    "\n",
    "T2 = np.transpose(np.vstack((np.transpose(E2 @ F1), e2)))\n",
    "print(\"Matrica druge kamere:\\n\", T2)"
   ]
  },
  {
   "cell_type": "code",
   "execution_count": 15,
   "metadata": {},
   "outputs": [],
   "source": [
    "def jednacina(X, Y, T1, T2):\n",
    "    return np.array(\n",
    "        [ X[1] * T1[2] - X[2] * T1[1], \n",
    "          -X[0] * T1[2] + X[2] * T1[0],\n",
    "          Y[1] * T2[2] - Y[2] * T2[1],\n",
    "          -Y[0] * T2[2] + Y[2] * T2[0]\n",
    "        ]\n",
    "    )"
   ]
  },
  {
   "cell_type": "code",
   "execution_count": 16,
   "metadata": {},
   "outputs": [
    {
     "name": "stdout",
     "output_type": "stream",
     "text": [
      "Tacke u prostoru:\n",
      " [[4.91843530e+02 1.59313908e+00 5.09016470e-01]\n",
      " [5.04614316e+02 2.83555175e+01 4.47171241e-01]\n",
      " [4.62901701e+02 1.32736814e+02 5.25575362e-01]\n",
      " [4.51538241e+02 1.24865100e+02 6.34769216e-01]\n",
      " [3.83891904e+02 1.28751447e+02 3.86994704e-01]\n",
      " [4.02597956e+02 1.34081479e+02 3.52730610e-01]\n",
      " [3.41967744e+02 2.38664138e+02 3.85483291e-01]\n",
      " [3.18681226e+02 2.46478590e+02 4.37378816e-01]\n",
      " [2.04982319e+02 3.90574979e+02 6.98659210e-01]\n",
      " [2.99381985e+02 3.56356779e+02 3.85907327e-01]\n",
      " [2.18131111e+02 3.92907417e+02 2.81440333e-01]\n",
      " [1.33994812e+02 4.34968096e+02 4.20089046e-01]\n",
      " [4.03656240e+02 4.66525599e+01 3.90891784e-01]\n",
      " [4.58570726e+02 1.19093832e+02 2.96527638e-01]\n",
      " [3.86631275e+02 1.84150621e+02 2.46041404e-01]\n",
      " [3.35122954e+02 1.40205833e+02 3.05634378e-01]]\n"
     ]
    }
   ],
   "source": [
    "image1 = [x1, x2, x3, x4, x5, x6, x7, x8, x9, x10, x11, x12, x13, x14, x15, x16]\n",
    "image2 = [y1, y2, y3, y4, y5, y6, y7, y8, y9, y10, y11, y12, y13, y14, y15, y16]\n",
    "\n",
    "points = np.array( list ( map ( lambda P : P[:-1], # Uklanjamo pretvaramo u afine koordinate\n",
    "\n",
    "    map ( lambda P : P / P[-1], # Svodimo na kanonski oblik\n",
    "\n",
    "        map ( lambda P : np.linalg.svd(jednacina(P[0], P[1], T1, T2))[2][-1], # Racunamo tacku\n",
    "            zip(image1, image2)\n",
    "        )\n",
    "    )\n",
    ")))\n",
    "\n",
    "print(\"Tacke u prostoru:\\n\", points)\n"
   ]
  },
  {
   "cell_type": "code",
   "execution_count": 17,
   "metadata": {},
   "outputs": [
    {
     "data": {
      "image/png": "[encoded data removed]",
      "text/plain": [
       "<Figure size 640x480 with 1 Axes>"
      ]
     },
     "metadata": {},
     "output_type": "display_data"
    }
   ],
   "source": [
    "box1 = np.array([points[8], points[9], points[10], points[11], points[12], points[13], points[14], points[15]])\n",
    "box2 = np.array([points[0], points[1], points[2], points[3], points[4], points[5], points[6], points[7]])\n",
    "\n",
    "fig = plt.figure()\n",
    "ax = plt.axes(projection='3d')\n",
    "\n",
    "ax.scatter(box1[:,0], box1[:,1], box1[:,2], color='red')\n",
    "ax.scatter(box2[:,0], box2[:,1], box2[:,2], color='blue')\n",
    "\n",
    "edges1 = [\n",
    "    (1, 2), \n",
    "    (2, 3), \n",
    "    (3, 4),\n",
    "    (4, 1),\n",
    "    (5, 6),    (6, 7),\n",
    "    (7, 8),\n",
    "    (8, 5),\n",
    "    (1, 5),\n",
    "    (2, 6),\n",
    "    (3, 7),\n",
    "    (4, 8)\n",
    "]\n",
    "\n",
    "edges2 = [\n",
    "    (9, 10),\n",
    "    (10, 11),\n",
    "    (11, 12),\n",
    "    (12, 9),\n",
    "    (13, 14),\n",
    "    (14, 15),\n",
    "    (15, 16),\n",
    "    (16, 13),\n",
    "    (9, 13),\n",
    "    (10, 14),\n",
    "    (11, 15),\n",
    "    (12, 16)\n",
    "]\n",
    "\n",
    "# Box1\n",
    "for (p1, p2) in edges1:\n",
    "    p1 -= 1\n",
    "    p2 -= 1\n",
    "    ax.plot(\n",
    "        [points[p1][0], points[p2][0]],\n",
    "        [points[p1][1], points[p2][1]],\n",
    "        [points[p1][2], points[p2][2]],\n",
    "        color='blue'\n",
    "    )\n",
    "\n",
    "\n",
    "# Box2\n",
    "for (p1, p2) in edges2:\n",
    "    p1 -= 1\n",
    "    p2 -= 1\n",
    "    ax.plot(\n",
    "        [points[p1][0], points[p2][0]],\n",
    "        [points[p1][1], points[p2][1]],\n",
    "        [points[p1][2], points[p2][2]],\n",
    "        color='red'\n",
    "    )"
   ]
  }
 ],
 "metadata": {
  "kernelspec": {
   "display_name": ".venv",
   "language": "python",
   "name": "python3"
  },
  "language_info": {
   "codemirror_mode": {
    "name": "ipython",
    "version": 3
   },
   "file_extension": ".py",
   "mimetype": "text/x-python",
   "name": "python",
   "nbconvert_exporter": "python",
   "pygments_lexer": "ipython3",
   "version": "3.10.6"
  },
  "orig_nbformat": 4,
  "vscode": {
   "interpreter": {
    "hash": "926b5b7ed9e1b74ad0d086f0ad9d17e092f8c81f38b503c8a03f44717b95f56a"
   }
  }
 },
 "nbformat": 4,
 "nbformat_minor": 2
}
