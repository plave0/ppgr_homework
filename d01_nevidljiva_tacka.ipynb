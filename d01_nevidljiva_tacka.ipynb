{
 "cells": [
  {
   "cell_type": "markdown",
   "metadata": {},
   "source": [
    "# Domaći 1 - nevidljive tačke"
   ]
  },
  {
   "cell_type": "code",
   "execution_count": 1,
   "metadata": {},
   "outputs": [],
   "source": [
    "import lib.pg2d as pg2\n",
    "import numpy as np"
   ]
  },
  {
   "cell_type": "code",
   "execution_count": 2,
   "metadata": {},
   "outputs": [],
   "source": [
    "def nevidljiva_tacka(\n",
    "    p1:pg2.ProjectivePoint2D,\n",
    "    p2:pg2.ProjectivePoint2D,\n",
    "    p3:pg2.ProjectivePoint2D,\n",
    "    p5:pg2.ProjectivePoint2D,\n",
    "    p6:pg2.ProjectivePoint2D,\n",
    "    p7:pg2.ProjectivePoint2D,\n",
    "    p8:pg2.ProjectivePoint2D,\n",
    "):\n",
    "\n",
    "    xb_1 = pg2.meet_projective_lines(\n",
    "        pg2.join_projective_points(p2, p6),\n",
    "        pg2.join_projective_points(p1, p5)\n",
    "    )\n",
    "    xb_2 = pg2.meet_projective_lines(\n",
    "        pg2.join_projective_points(p2, p6),\n",
    "        pg2.join_projective_points(p3, p7)\n",
    "    )\n",
    "    xb_3 = pg2.meet_projective_lines(\n",
    "        pg2.join_projective_points(p3, p7),\n",
    "        pg2.join_projective_points(p1, p5)\n",
    "    )\n",
    "\n",
    "    xb = pg2.ProjectivePoint2D(*(\n",
    "        map(lambda i, j, k: i + j + k, xb_1, xb_2, xb_3)\n",
    "    ))\n",
    "    xb = pg2.ProjectivePoint2D(*(\n",
    "        map(lambda x: x/3, xb)\n",
    "    ))\n",
    "\n",
    "    yb_1 = pg2.meet_projective_lines(\n",
    "        pg2.join_projective_points(p7, p8), \n",
    "        pg2.join_projective_points(p6, p5)\n",
    "    )\n",
    "    yb_2 = pg2.meet_projective_lines(\n",
    "        pg2.join_projective_points(p7, p8),\n",
    "        pg2.join_projective_points(p1, p2)\n",
    "    )\n",
    "    yb_3 = pg2.meet_projective_lines(\n",
    "        pg2.join_projective_points(p5, p6),\n",
    "        pg2.join_projective_points(p1, p2)\n",
    "    )\n",
    "\n",
    "    yb = pg2.ProjectivePoint2D(*(\n",
    "        map(lambda i, j, k: i + j + k, yb_1, yb_2, yb_3)\n",
    "    ))\n",
    "    yb = pg2.ProjectivePoint2D(*(\n",
    "        map(lambda x : x/3, yb)\n",
    "    ))\n",
    "\n",
    "    p4 = pg2.meet_projective_lines(\n",
    "        pg2.join_projective_points(yb, p3),\n",
    "        pg2.join_projective_points(xb, p8)\n",
    "    )\n",
    "\n",
    "    return p4\n"
   ]
  },
  {
   "cell_type": "code",
   "execution_count": 5,
   "metadata": {},
   "outputs": [
    {
     "name": "stdout",
     "output_type": "stream",
     "text": [
      "AffinePoint2D(x=623.4577313240425, y=413.5862201834196)\n"
     ]
    }
   ],
   "source": [
    "p1 = pg2.ProjectivePoint2D(847, 433, 1)\n",
    "p2 = pg2.ProjectivePoint2D(380, 753, 1)\n",
    "p3 = pg2.ProjectivePoint2D(173, 531, 1)\n",
    "p5 = pg2.ProjectivePoint2D(930, 95, 1)\n",
    "p6 = pg2.ProjectivePoint2D(351, 257, 1)\n",
    "p7 = pg2.ProjectivePoint2D(94, 129, 1)\n",
    "p8 = pg2.ProjectivePoint2D(661, 36, 1)\n",
    "\n",
    "p4 = nevidljiva_tacka(p1, p2, p3, p5, p6, p7, p8)\n",
    "p4 = pg2.projective_to_affine_point(p4)\n",
    "print(p4)"
   ]
  }
 ],
 "metadata": {
  "kernelspec": {
   "display_name": "Python 3 (ipykernel)",
   "language": "python",
   "name": "python3"
  },
  "language_info": {
   "codemirror_mode": {
    "name": "ipython",
    "version": 3
   },
   "file_extension": ".py",
   "mimetype": "text/x-python",
   "name": "python",
   "nbconvert_exporter": "python",
   "pygments_lexer": "ipython3",
   "version": "3.10.6 (main, Nov 10 2011, 15:00:00) [GCC 12.1.0]"
  },
  "vscode": {
   "interpreter": {
    "hash": "926b5b7ed9e1b74ad0d086f0ad9d17e092f8c81f38b503c8a03f44717b95f56a"
   }
  }
 },
 "nbformat": 4,
 "nbformat_minor": 2
}
