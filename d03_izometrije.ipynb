{
 "cells": [
  {
   "cell_type": "markdown",
   "metadata": {},
   "source": [
    "# Domaći 03 - Izometrije"
   ]
  },
  {
   "cell_type": "markdown",
   "metadata": {},
   "source": [
    "## Biblioteke"
   ]
  },
  {
   "cell_type": "code",
   "execution_count": 1,
   "metadata": {},
   "outputs": [],
   "source": [
    "import numpy as np\n",
    "from d03_rotacije import *"
   ]
  },
  {
   "cell_type": "markdown",
   "metadata": {},
   "source": [
    "## Test primeri"
   ]
  },
  {
   "cell_type": "code",
   "execution_count": 2,
   "metadata": {},
   "outputs": [
    {
     "name": "stdout",
     "output_type": "stream",
     "text": [
      "fi = 4.1887902047863905\n",
      "teta = 0.18479956785822313\n",
      "psi = 4.71238898038469\n"
     ]
    }
   ],
   "source": [
    "n = 208\n",
    "fi = (2 * np.pi / 6) * ((n % 5) + 1)\n",
    "teta = (np.pi / 17) * ((n % 8) + 1) \n",
    "psi = (2 * np.pi / 8) * ((n % 7) + 1)\n",
    "print(f\"fi = {fi}\")\n",
    "print(f\"teta = {teta}\")\n",
    "print(f\"psi = {psi}\")"
   ]
  },
  {
   "cell_type": "markdown",
   "metadata": {},
   "source": [
    "### Euler2A"
   ]
  },
  {
   "cell_type": "code",
   "execution_count": 3,
   "metadata": {},
   "outputs": [
    {
     "data": {
      "text/plain": [
       "array([[ 0.11111111, -0.88888889, -0.44444444],\n",
       "       [ 0.44444444,  0.44444444, -0.77777778],\n",
       "       [ 0.88888889, -0.11111111,  0.44444444]])"
      ]
     },
     "execution_count": 3,
     "metadata": {},
     "output_type": "execute_result"
    }
   ],
   "source": [
    "A1 = Euler2A(-np.arctan(0.25), -np.arcsin(8/9), np.arctan(4))\n",
    "A1"
   ]
  },
  {
   "cell_type": "code",
   "execution_count": 4,
   "metadata": {},
   "outputs": [
    {
     "data": {
      "text/plain": [
       "array([[-1.80569229e-16, -5.00000000e-01,  8.66025404e-01],\n",
       "       [-9.82973100e-01,  1.59131750e-01,  9.18747589e-02],\n",
       "       [-1.83749518e-01, -8.51279676e-01, -4.91486550e-01]])"
      ]
     },
     "execution_count": 4,
     "metadata": {},
     "output_type": "execute_result"
    }
   ],
   "source": [
    "A2 = Euler2A(fi, teta, psi)\n",
    "A2"
   ]
  },
  {
   "cell_type": "markdown",
   "metadata": {},
   "source": [
    "### AxisAngle"
   ]
  },
  {
   "cell_type": "code",
   "execution_count": 5,
   "metadata": {},
   "outputs": [
    {
     "name": "stdout",
     "output_type": "stream",
     "text": [
      "p = [ 0.33333333 -0.66666667  0.66666667]\n",
      "f = 1.5707963267948966\n"
     ]
    }
   ],
   "source": [
    "p1, fi1 = AxisAngle(A1)\n",
    "print(f\"p = {p1}\")\n",
    "print(f\"f = {fi1}\")"
   ]
  },
  {
   "cell_type": "code",
   "execution_count": 6,
   "metadata": {},
   "outputs": [
    {
     "name": "stdout",
     "output_type": "stream",
     "text": [
      "p = [ 0.63231623 -0.70379748  0.32379822]\n",
      "f = 3.9833175520834914\n"
     ]
    }
   ],
   "source": [
    "p2, fi2 = AxisAngle(A2)\n",
    "print(f\"p = {p2}\")\n",
    "print(f\"f = {fi2}\")"
   ]
  },
  {
   "cell_type": "markdown",
   "metadata": {},
   "source": [
    "### Rodrigez"
   ]
  },
  {
   "cell_type": "code",
   "execution_count": 7,
   "metadata": {},
   "outputs": [
    {
     "data": {
      "text/plain": [
       "array([[ 0.11111111, -0.88888889, -0.44444444],\n",
       "       [ 0.44444444,  0.44444444, -0.77777778],\n",
       "       [ 0.88888889, -0.11111111,  0.44444444]])"
      ]
     },
     "execution_count": 7,
     "metadata": {},
     "output_type": "execute_result"
    }
   ],
   "source": [
    "p1n = p1 / np.linalg.norm(p1)\n",
    "A3 = Rodrigez(np.array([p1n]), fi1)\n",
    "A3"
   ]
  },
  {
   "cell_type": "code",
   "execution_count": 8,
   "metadata": {},
   "outputs": [
    {
     "data": {
      "text/plain": [
       "array([[-1.66533454e-16, -5.00000000e-01,  8.66025404e-01],\n",
       "       [-9.82973100e-01,  1.59131750e-01,  9.18747589e-02],\n",
       "       [-1.83749518e-01, -8.51279676e-01, -4.91486550e-01]])"
      ]
     },
     "execution_count": 8,
     "metadata": {},
     "output_type": "execute_result"
    }
   ],
   "source": [
    "p2n = p2 / np.linalg.norm(p2)\n",
    "A4 = Rodrigez(np.array([p2n]), fi2)\n",
    "A4"
   ]
  },
  {
   "cell_type": "markdown",
   "metadata": {},
   "source": [
    "### A2Euler"
   ]
  },
  {
   "cell_type": "code",
   "execution_count": 9,
   "metadata": {},
   "outputs": [
    {
     "name": "stdout",
     "output_type": "stream",
     "text": [
      "fi = -0.2449786631268642\n",
      "teta = -1.09491407713448\n",
      "psi = 1.3258176636680326\n"
     ]
    }
   ],
   "source": [
    "fi1, teta1, psi1 = A2Euler(A3)\n",
    "print(f\"fi = {fi1}\")\n",
    "print(f\"teta = {teta1}\")\n",
    "print(f\"psi = {psi1}\")"
   ]
  },
  {
   "cell_type": "code",
   "execution_count": 10,
   "metadata": {},
   "outputs": [
    {
     "name": "stdout",
     "output_type": "stream",
     "text": [
      "fi = -2.094395102393196\n",
      "teta = 0.18479956785822302\n",
      "psi = -1.5707963267948968\n"
     ]
    }
   ],
   "source": [
    "# Uglovi Fi i Psi su pomereni za 2*Pi\n",
    "fi2, teta2, psi2 = A2Euler(A4)\n",
    "print(f\"fi = {fi2}\")\n",
    "print(f\"teta = {teta2}\")\n",
    "print(f\"psi = {psi2}\")"
   ]
  }
 ],
 "metadata": {
  "kernelspec": {
   "display_name": "Python 3.10.6 ('.venv': venv)",
   "language": "python",
   "name": "python3"
  },
  "language_info": {
   "codemirror_mode": {
    "name": "ipython",
    "version": 3
   },
   "file_extension": ".py",
   "mimetype": "text/x-python",
   "name": "python",
   "nbconvert_exporter": "python",
   "pygments_lexer": "ipython3",
   "version": "3.10.6 (main, Nov 10 2011, 15:00:00) [GCC 12.1.0]"
  },
  "orig_nbformat": 4,
  "vscode": {
   "interpreter": {
    "hash": "926b5b7ed9e1b74ad0d086f0ad9d17e092f8c81f38b503c8a03f44717b95f56a"
   }
  }
 },
 "nbformat": 4,
 "nbformat_minor": 2
}
